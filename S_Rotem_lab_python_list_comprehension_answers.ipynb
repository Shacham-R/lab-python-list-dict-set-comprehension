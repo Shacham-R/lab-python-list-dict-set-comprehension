{
  "cells": [
    {
      "cell_type": "markdown",
      "id": "25d7736c-ba17-4aff-b6bb-66eba20fbf4e",
      "metadata": {
        "id": "25d7736c-ba17-4aff-b6bb-66eba20fbf4e"
      },
      "source": [
        "# Lab | List, Dict and Set Comprehension"
      ]
    },
    {
      "cell_type": "markdown",
      "id": "7dd3cbde-675a-4b81-92c3-f728846dbe06",
      "metadata": {
        "id": "7dd3cbde-675a-4b81-92c3-f728846dbe06"
      },
      "source": [
        "## Exercise: Managing Customer Orders Optimized with Comprehension"
      ]
    },
    {
      "cell_type": "markdown",
      "id": "5d500160-2fb7-4777-b5e4-09d45ebaf328",
      "metadata": {
        "id": "5d500160-2fb7-4777-b5e4-09d45ebaf328"
      },
      "source": [
        "In the previous exercise, you developed a program to manage customer orders and inventory. Now, let's take it a step further and incorporate comprehension into your code.\n",
        "\n",
        "Follow the steps below to complete the exercise:\n",
        "\n",
        "1. Review your code from the previous exercise and identify areas where you can apply comprehension to simplify and streamline your code.\n",
        "\n",
        "    - *Hint: Apply it to initialize inventory, updating the inventory and printing the updated inventory.*\n",
        "    \n",
        "    - For example, in initializing the inventory, we could have:\n",
        "    \n",
        "        ```python\n",
        "        def initialize_inventory(products):\n",
        "            inventory = {product: int(input(f\"Enter the quantity of {product}s available: \")) for product in products}\n",
        "            return inventory\n",
        "\n",
        "        ```\n",
        "<br>\n",
        "    \n",
        "    \n",
        "2. Modify the function get_customer_orders so it prompts the user to enter the number of customer orders and gathers the product names using a loop and user input. Use comprehension.\n",
        "\n",
        "3. Add a new function to calculate the total price of the customer order. For each product in customer_orders, prompt the user to enter the price of that product. Use comprehension to calculate the total price. Note: assume that the user can only have 1 unit of each product.\n",
        "\n",
        "4. Modify the update_inventory function to remove the product from the inventory if its quantity becomes zero after fulfilling the customer orders. Use comprehension to filter out the products with a quantity of zero from the inventory.\n",
        "\n",
        "5. Print the total price of the customer order.\n",
        "\n",
        "Your code should produce output similar to the following:\n",
        "\n",
        "```python\n",
        "Enter the quantity of t-shirts available:  5\n",
        "Enter the quantity of mugs available:  4\n",
        "Enter the quantity of hats available:  3\n",
        "Enter the quantity of books available:  2\n",
        "Enter the quantity of keychains available:  1\n",
        "Enter the number of customer orders:  2\n",
        "Enter the name of a product that a customer wants to order:  hat\n",
        "Enter the name of a product that a customer wants to order:  keychain\n",
        "\n",
        "Order Statistics:\n",
        "Total Products Ordered: 2\n",
        "Percentage of Unique Products Ordered: 40.0\n",
        "\n",
        "Updated Inventory:\n",
        "t-shirt: 5\n",
        "mug: 4\n",
        "hat: 2\n",
        "book: 2\n",
        "Enter the price of keychain:  5\n",
        "Enter the price of hat:  10\n",
        "Total Price: 15.0\n",
        "\n",
        "```\n"
      ]
    },
    {
      "cell_type": "code",
      "source": [
        "#data\n",
        "\n",
        "products = [\"t-shirt\", \"mug\", \"hat\", \"book\", \"keychain\"]\n",
        "print(\"Products list: \", products)\n",
        "\n",
        "#defining the functions:\n",
        "\n",
        "#1\n",
        "def initialize_inventory(products):\n",
        "  inventory = {product:int(input(f\"Please enter the quantity of {product} \")) for product in products}\n",
        "  return inventory\n",
        "\n",
        "#2\n",
        "def get_customer_orders():\n",
        "  customer_orders = set()\n",
        "  num_orders = int(input(\"how many items do you want to order?\"))\n",
        "  customer_orders = {input(\"What would you like to order?\") for orders in range(num_orders)}\n",
        "\n",
        "  return customer_orders\n",
        "\n",
        "\n",
        "#3\n",
        "def calculate_order_price(customer_orders):\n",
        "  #user prompt\n",
        "  order_price = {product:int(input(f\"Please enter the price of {product} \")) for product in customer_orders}\n",
        "  #calculate the total order price\n",
        "  total_price = [price for price in order_price.values()]\n",
        "\n",
        "  return sum(total_price)\n",
        "\n",
        "#1\n",
        "def update_inventory(inventory, customer_orders):\n",
        "  inventory = {product:(quantity-1 if product in customer_orders else quantity) for product, quantity in inventory.items() }\n",
        "  #4\n",
        "  inventory = {product:quantity for product, quantity in inventory.items() if quantity <= 0 }\n",
        "  return inventory\n",
        "\n",
        "\n",
        "def calculate_order_statistics(customer_orders, products):\n",
        "  total_ordered = len(customer_orders)\n",
        "  percent_ordered = round(100*(total_ordered/len(products)),2)\n",
        "  order_statistics = (total_ordered, percent_ordered)\n",
        "\n",
        "  return order_statistics\n",
        "\n",
        "\n",
        "\n",
        "def print_order_statistics(order_statistics):\n",
        "  print(f\"Order Statistics:\\nTotal Products Ordered: {order_statistics[0]}\\nPercentage of Products Ordered: {order_statistics[1]}% \")\n",
        "\n",
        "\n",
        "\n",
        "def print_updated_inventory(inventory):\n",
        "  print(\"Updated inventory:\")\n",
        "  to_print = [(f\"Product:{product} Quantity:{quantity}\") for product, quantity in inventory.items()]\n",
        "  return to_print\n"
      ],
      "metadata": {
        "colab": {
          "base_uri": "https://localhost:8080/"
        },
        "id": "X2kTRU6PFXrj",
        "outputId": "4afa0887-1f62-4583-90fb-13dc0037ef02"
      },
      "id": "X2kTRU6PFXrj",
      "execution_count": null,
      "outputs": [
        {
          "output_type": "stream",
          "name": "stdout",
          "text": [
            "Products list:  ['t-shirt', 'mug', 'hat', 'book', 'keychain']\n"
          ]
        }
      ]
    },
    {
      "cell_type": "code",
      "source": [
        "#7 - calling the functions in order -\n",
        "\n",
        "inventory = initialize_inventory(products)\n",
        "customer_orders = get_customer_orders()\n",
        "inventory_updated = update_inventory(inventory, customer_orders)\n",
        "order_statistics = calculate_order_statistics(customer_orders, products)\n",
        "print_order_statistics(order_statistics)\n",
        "print(print_updated_inventory(inventory_updated))\n",
        "#5\n",
        "print(\"The total price of the order is: \",calculate_order_price(customer_orders))"
      ],
      "metadata": {
        "colab": {
          "base_uri": "https://localhost:8080/"
        },
        "id": "uxMi49XFKy6Y",
        "outputId": "4458a42e-994e-48b0-89ab-bb4e3b3c4fd0"
      },
      "id": "uxMi49XFKy6Y",
      "execution_count": null,
      "outputs": [
        {
          "output_type": "stream",
          "name": "stdout",
          "text": [
            "Please enter the quantity of t-shirt 7\n",
            "Please enter the quantity of mug 5\n",
            "Please enter the quantity of hat 6\n",
            "Please enter the quantity of book 7\n",
            "Please enter the quantity of keychain 6\n",
            "how many items do you want to order?2\n",
            "What would you like to order?mug\n",
            "What would you like to order?hat\n",
            "Order Statistics:\n",
            "Total Products Ordered: 2\n",
            "Percentage of Products Ordered: 40.0% \n",
            "Updated inventory:\n",
            "[]\n",
            "Please enter the price of mug 56\n",
            "Please enter the price of hat 10000000\n",
            "The total price of the order is:  10000056\n"
          ]
        }
      ]
    }
  ],
  "metadata": {
    "kernelspec": {
      "display_name": "Python 3 (ipykernel)",
      "language": "python",
      "name": "python3"
    },
    "language_info": {
      "codemirror_mode": {
        "name": "ipython",
        "version": 3
      },
      "file_extension": ".py",
      "mimetype": "text/x-python",
      "name": "python",
      "nbconvert_exporter": "python",
      "pygments_lexer": "ipython3",
      "version": "3.9.13"
    },
    "colab": {
      "provenance": []
    }
  },
  "nbformat": 4,
  "nbformat_minor": 5
}